{
  "cells": [
    {
      "cell_type": "markdown",
      "metadata": {
        "id": "view-in-github",
        "colab_type": "text"
      },
      "source": [
        "<a href=\"https://colab.research.google.com/github/Anubhav0311/snowflake-migration/blob/main/pyspark_colab_practice.ipynb\" target=\"_parent\"><img src=\"https://colab.research.google.com/assets/colab-badge.svg\" alt=\"Open In Colab\"/></a>"
      ]
    },
    {
      "cell_type": "markdown",
      "id": "d7d85e59",
      "metadata": {
        "id": "d7d85e59"
      },
      "source": [
        "# PySpark_One_Shot\n",
        "\n",
        "This notebook sets up PySpark in Google Colab, loads sample data, and lets you practice DataFrame operations."
      ]
    },
    {
      "cell_type": "code",
      "execution_count": 2,
      "id": "bf98d73e",
      "metadata": {
        "id": "bf98d73e"
      },
      "outputs": [],
      "source": [
        "!apt-get install openjdk-11-jdk-headless -qq\n",
        "!rm -f spark-3.5.3-bin-hadoop3.tgz\n",
        "!wget -q https://archive.apache.org/dist/spark/spark-3.5.3/spark-3.5.3-bin-hadoop3.tgz\n",
        "!tar -xzf spark-3.5.3-bin-hadoop3.tgz\n",
        "!pip install -q findspark\n",
        "\n",
        "\n",
        "\n"
      ]
    },
    {
      "cell_type": "code",
      "execution_count": 3,
      "id": "741aa99d",
      "metadata": {
        "id": "741aa99d"
      },
      "outputs": [],
      "source": [
        "import os, findspark\n",
        "os.environ[\"JAVA_HOME\"] = \"/usr/lib/jvm/java-11-openjdk-amd64\"\n",
        "os.environ[\"SPARK_HOME\"] = \"/content/spark-3.5.3-bin-hadoop3\"\n",
        "findspark.init()\n",
        "from pyspark.sql import SparkSession\n",
        "spark = SparkSession.builder.appName(\"PySparkPractice\").getOrCreate()\n",
        "\n"
      ]
    },
    {
      "cell_type": "code",
      "execution_count": 4,
      "id": "eb3a1c9e",
      "metadata": {
        "colab": {
          "base_uri": "https://localhost:8080/",
          "height": 142
        },
        "id": "eb3a1c9e",
        "outputId": "a8bba249-be2b-4be4-fd9c-9746c4da32a8"
      },
      "outputs": [
        {
          "output_type": "display_data",
          "data": {
            "text/plain": [
              "<IPython.core.display.HTML object>"
            ],
            "text/html": [
              "\n",
              "     <input type=\"file\" id=\"files-66c73cf3-a2a0-4f31-bd83-e292f503b82e\" name=\"files[]\" multiple disabled\n",
              "        style=\"border:none\" />\n",
              "     <output id=\"result-66c73cf3-a2a0-4f31-bd83-e292f503b82e\">\n",
              "      Upload widget is only available when the cell has been executed in the\n",
              "      current browser session. Please rerun this cell to enable.\n",
              "      </output>\n",
              "      <script>// Copyright 2017 Google LLC\n",
              "//\n",
              "// Licensed under the Apache License, Version 2.0 (the \"License\");\n",
              "// you may not use this file except in compliance with the License.\n",
              "// You may obtain a copy of the License at\n",
              "//\n",
              "//      http://www.apache.org/licenses/LICENSE-2.0\n",
              "//\n",
              "// Unless required by applicable law or agreed to in writing, software\n",
              "// distributed under the License is distributed on an \"AS IS\" BASIS,\n",
              "// WITHOUT WARRANTIES OR CONDITIONS OF ANY KIND, either express or implied.\n",
              "// See the License for the specific language governing permissions and\n",
              "// limitations under the License.\n",
              "\n",
              "/**\n",
              " * @fileoverview Helpers for google.colab Python module.\n",
              " */\n",
              "(function(scope) {\n",
              "function span(text, styleAttributes = {}) {\n",
              "  const element = document.createElement('span');\n",
              "  element.textContent = text;\n",
              "  for (const key of Object.keys(styleAttributes)) {\n",
              "    element.style[key] = styleAttributes[key];\n",
              "  }\n",
              "  return element;\n",
              "}\n",
              "\n",
              "// Max number of bytes which will be uploaded at a time.\n",
              "const MAX_PAYLOAD_SIZE = 100 * 1024;\n",
              "\n",
              "function _uploadFiles(inputId, outputId) {\n",
              "  const steps = uploadFilesStep(inputId, outputId);\n",
              "  const outputElement = document.getElementById(outputId);\n",
              "  // Cache steps on the outputElement to make it available for the next call\n",
              "  // to uploadFilesContinue from Python.\n",
              "  outputElement.steps = steps;\n",
              "\n",
              "  return _uploadFilesContinue(outputId);\n",
              "}\n",
              "\n",
              "// This is roughly an async generator (not supported in the browser yet),\n",
              "// where there are multiple asynchronous steps and the Python side is going\n",
              "// to poll for completion of each step.\n",
              "// This uses a Promise to block the python side on completion of each step,\n",
              "// then passes the result of the previous step as the input to the next step.\n",
              "function _uploadFilesContinue(outputId) {\n",
              "  const outputElement = document.getElementById(outputId);\n",
              "  const steps = outputElement.steps;\n",
              "\n",
              "  const next = steps.next(outputElement.lastPromiseValue);\n",
              "  return Promise.resolve(next.value.promise).then((value) => {\n",
              "    // Cache the last promise value to make it available to the next\n",
              "    // step of the generator.\n",
              "    outputElement.lastPromiseValue = value;\n",
              "    return next.value.response;\n",
              "  });\n",
              "}\n",
              "\n",
              "/**\n",
              " * Generator function which is called between each async step of the upload\n",
              " * process.\n",
              " * @param {string} inputId Element ID of the input file picker element.\n",
              " * @param {string} outputId Element ID of the output display.\n",
              " * @return {!Iterable<!Object>} Iterable of next steps.\n",
              " */\n",
              "function* uploadFilesStep(inputId, outputId) {\n",
              "  const inputElement = document.getElementById(inputId);\n",
              "  inputElement.disabled = false;\n",
              "\n",
              "  const outputElement = document.getElementById(outputId);\n",
              "  outputElement.innerHTML = '';\n",
              "\n",
              "  const pickedPromise = new Promise((resolve) => {\n",
              "    inputElement.addEventListener('change', (e) => {\n",
              "      resolve(e.target.files);\n",
              "    });\n",
              "  });\n",
              "\n",
              "  const cancel = document.createElement('button');\n",
              "  inputElement.parentElement.appendChild(cancel);\n",
              "  cancel.textContent = 'Cancel upload';\n",
              "  const cancelPromise = new Promise((resolve) => {\n",
              "    cancel.onclick = () => {\n",
              "      resolve(null);\n",
              "    };\n",
              "  });\n",
              "\n",
              "  // Wait for the user to pick the files.\n",
              "  const files = yield {\n",
              "    promise: Promise.race([pickedPromise, cancelPromise]),\n",
              "    response: {\n",
              "      action: 'starting',\n",
              "    }\n",
              "  };\n",
              "\n",
              "  cancel.remove();\n",
              "\n",
              "  // Disable the input element since further picks are not allowed.\n",
              "  inputElement.disabled = true;\n",
              "\n",
              "  if (!files) {\n",
              "    return {\n",
              "      response: {\n",
              "        action: 'complete',\n",
              "      }\n",
              "    };\n",
              "  }\n",
              "\n",
              "  for (const file of files) {\n",
              "    const li = document.createElement('li');\n",
              "    li.append(span(file.name, {fontWeight: 'bold'}));\n",
              "    li.append(span(\n",
              "        `(${file.type || 'n/a'}) - ${file.size} bytes, ` +\n",
              "        `last modified: ${\n",
              "            file.lastModifiedDate ? file.lastModifiedDate.toLocaleDateString() :\n",
              "                                    'n/a'} - `));\n",
              "    const percent = span('0% done');\n",
              "    li.appendChild(percent);\n",
              "\n",
              "    outputElement.appendChild(li);\n",
              "\n",
              "    const fileDataPromise = new Promise((resolve) => {\n",
              "      const reader = new FileReader();\n",
              "      reader.onload = (e) => {\n",
              "        resolve(e.target.result);\n",
              "      };\n",
              "      reader.readAsArrayBuffer(file);\n",
              "    });\n",
              "    // Wait for the data to be ready.\n",
              "    let fileData = yield {\n",
              "      promise: fileDataPromise,\n",
              "      response: {\n",
              "        action: 'continue',\n",
              "      }\n",
              "    };\n",
              "\n",
              "    // Use a chunked sending to avoid message size limits. See b/62115660.\n",
              "    let position = 0;\n",
              "    do {\n",
              "      const length = Math.min(fileData.byteLength - position, MAX_PAYLOAD_SIZE);\n",
              "      const chunk = new Uint8Array(fileData, position, length);\n",
              "      position += length;\n",
              "\n",
              "      const base64 = btoa(String.fromCharCode.apply(null, chunk));\n",
              "      yield {\n",
              "        response: {\n",
              "          action: 'append',\n",
              "          file: file.name,\n",
              "          data: base64,\n",
              "        },\n",
              "      };\n",
              "\n",
              "      let percentDone = fileData.byteLength === 0 ?\n",
              "          100 :\n",
              "          Math.round((position / fileData.byteLength) * 100);\n",
              "      percent.textContent = `${percentDone}% done`;\n",
              "\n",
              "    } while (position < fileData.byteLength);\n",
              "  }\n",
              "\n",
              "  // All done.\n",
              "  yield {\n",
              "    response: {\n",
              "      action: 'complete',\n",
              "    }\n",
              "  };\n",
              "}\n",
              "\n",
              "scope.google = scope.google || {};\n",
              "scope.google.colab = scope.google.colab || {};\n",
              "scope.google.colab._files = {\n",
              "  _uploadFiles,\n",
              "  _uploadFilesContinue,\n",
              "};\n",
              "})(self);\n",
              "</script> "
            ]
          },
          "metadata": {}
        },
        {
          "output_type": "stream",
          "name": "stdout",
          "text": [
            "Saving employees.csv to employees.csv\n",
            "Saving salaries.csv to salaries.csv\n",
            "Saving departments.csv to departments.csv\n"
          ]
        }
      ],
      "source": [
        "# ✅ Step 4: Upload sample CSV files\n",
        "from google.colab import files\n",
        "uploaded = files.upload()\n"
      ]
    },
    {
      "cell_type": "code",
      "execution_count": 5,
      "id": "094efdbe",
      "metadata": {
        "colab": {
          "base_uri": "https://localhost:8080/"
        },
        "id": "094efdbe",
        "outputId": "b908aa48-2114-43ec-c3d0-81781ddd3890"
      },
      "outputs": [
        {
          "output_type": "stream",
          "name": "stdout",
          "text": [
            "+------+-------+-------------+------+----------+---+\n",
            "|emp_id|   name|department_id|salary|manager_id|age|\n",
            "+------+-------+-------------+------+----------+---+\n",
            "|   101|  Alice|            1| 50000|       101| 34|\n",
            "|   102|    Bob|            2| 60000|       102| 41|\n",
            "|   103|Charlie|            1| 55000|       101| 29|\n",
            "|   104|  David|            3| 70000|       104| 45|\n",
            "|   105|    Eva|            2| 62000|       102| 36|\n",
            "|   106|  Frank|            1| 58000|       101| 31|\n",
            "+------+-------+-------------+------+----------+---+\n",
            "\n",
            "+-------------+---------------+\n",
            "|department_id|department_name|\n",
            "+-------------+---------------+\n",
            "|            1|             HR|\n",
            "|            2|             IT|\n",
            "|            3|        Finance|\n",
            "|            4|      Marketing|\n",
            "+-------------+---------------+\n",
            "\n",
            "+------+-----+-----------+\n",
            "|emp_id|month|salary_paid|\n",
            "+------+-----+-----------+\n",
            "|   101|  Jan|      50000|\n",
            "|   102|  Jan|      60000|\n",
            "|   103|  Jan|      55000|\n",
            "|   104|  Jan|      70000|\n",
            "|   105|  Jan|      62000|\n",
            "|   106|  Jan|      58000|\n",
            "+------+-----+-----------+\n",
            "\n"
          ]
        }
      ],
      "source": [
        "# ✅ Step 5: Load CSVs into DataFrames\n",
        "employees_df = spark.read.option(\"header\", True).option(\"inferSchema\", True).csv(\"employees.csv\")\n",
        "departments_df = spark.read.option(\"header\", True).option(\"inferSchema\", True).csv(\"departments.csv\")\n",
        "salaries_df = spark.read.option(\"header\", True).option(\"inferSchema\", True).csv(\"salaries.csv\")\n",
        "\n",
        "# Preview\n",
        "employees_df.show()\n",
        "departments_df.show()\n",
        "salaries_df.show()\n"
      ]
    },
    {
      "cell_type": "markdown",
      "source": [
        "🔹 1. Basic Selection & Filtering\n",
        "Select all columns.\n",
        "\n",
        "Select only name and salary.\n",
        "\n",
        "Get employees with salary > 50,000.\n",
        "\n",
        "Get female employees older than 30.\n",
        "\n",
        "Get distinct department IDs.\n",
        "\n",
        "🔹 2. Sorting and Limiting\n",
        "List top 5 highest paid employees.\n",
        "\n",
        "List youngest 3 employees in the company.\n",
        "\n",
        "Sort employees by dept_id and then by salary descending.\n",
        "\n",
        "🔹 3. Aggregations\n",
        "Find average salary.\n",
        "\n",
        "Find max and min salary.\n",
        "\n",
        "Count total number of employees.\n",
        "\n",
        "Find total salary expense per department.\n",
        "\n",
        "🔹 4. Grouping\n",
        "Group by department and find average salary.\n",
        "\n",
        "Find number of employees by gender.\n",
        "\n",
        "Group by age and count employees.\n",
        "\n",
        "🔹 5. Filtering After Grouping (HAVING Equivalent)\n",
        "Get departments with average salary > 60,000.\n",
        "\n",
        "Find genders with more than 5 employees.\n",
        "\n",
        "🔹 6. Joins (Assume departments table: dept_id, dept_name)\n",
        "Join employees with departments to get dept names.\n",
        "\n",
        "Get employee names and their department names.\n",
        "\n",
        "Find employees working in the \"Sales\" department.\n",
        "\n",
        "🔹 7. Window Functions\n",
        "Rank employees by salary within each department.\n",
        "\n",
        "Get top 1 highest paid employee per department.\n",
        "\n",
        "Calculate running total of salary by department.\n",
        "\n",
        "🔹 8. Subqueries / Nested logic\n",
        "Get employees whose salary > average salary.\n",
        "\n",
        "Find employees older than the average age.\n",
        "\n",
        "Get employees not in the department with max total salary.\n",
        "\n",
        "🔹 9. String and Date Functions (assume a hire_date column)\n",
        "Extract year from hire_date.\n",
        "\n",
        "Find employees hired after 2020.\n",
        "\n",
        "Count number of employees hired each year.\n",
        "\n",
        "Get length of employee names.\n",
        "\n",
        "Filter employees whose names start with 'A'.\n",
        "\n",
        "🔹 10. Advanced / Use Case Specific\n",
        "Find the second highest salary.\n",
        "\n",
        "Get duplicate salaries (i.e., salaries shared by more than 1 person).\n",
        "\n",
        "Find departments with male-to-female ratio > 2.\n",
        "\n",
        "Pivot: Show count of employees by gender for each department.\n",
        "\n",
        "Unpivot: Convert wide gender-based counts into tall format.\n",
        "\n"
      ],
      "metadata": {
        "id": "G5JN6GfgpEg9"
      },
      "id": "G5JN6GfgpEg9"
    },
    {
      "cell_type": "code",
      "source": [
        "from pyspark.sql.functions import *\n",
        "from pyspark.sql.types import *\n",
        "from pyspark.sql.window import Window\n"
      ],
      "metadata": {
        "id": "7LIZg8FRp5F8"
      },
      "id": "7LIZg8FRp5F8",
      "execution_count": 6,
      "outputs": []
    },
    {
      "cell_type": "markdown",
      "source": [
        "***1. Basic Selection & Filtering Select all columns.***"
      ],
      "metadata": {
        "id": "c5XMeiS_AlPA"
      },
      "id": "c5XMeiS_AlPA"
    },
    {
      "cell_type": "markdown",
      "source": [
        "**Select only name and salary.**"
      ],
      "metadata": {
        "id": "B3vjzIElqyAj"
      },
      "id": "B3vjzIElqyAj"
    },
    {
      "cell_type": "code",
      "source": [
        "employees_df.select(\"name\",col(\"salary\")).show()\n"
      ],
      "metadata": {
        "colab": {
          "base_uri": "https://localhost:8080/"
        },
        "id": "rHl9gJSzpH6l",
        "outputId": "965b1fd9-8672-450c-c2ec-f09d137d1d2b"
      },
      "id": "rHl9gJSzpH6l",
      "execution_count": 14,
      "outputs": [
        {
          "output_type": "stream",
          "name": "stdout",
          "text": [
            "+-------+------+\n",
            "|   name|salary|\n",
            "+-------+------+\n",
            "|  Alice| 50000|\n",
            "|    Bob| 60000|\n",
            "|Charlie| 55000|\n",
            "|  David| 70000|\n",
            "|    Eva| 62000|\n",
            "|  Frank| 58000|\n",
            "+-------+------+\n",
            "\n"
          ]
        }
      ]
    },
    {
      "cell_type": "markdown",
      "source": [
        "**Get employees with salary > 50,000.**"
      ],
      "metadata": {
        "id": "UZl_inUe_MvX"
      },
      "id": "UZl_inUe_MvX"
    },
    {
      "cell_type": "code",
      "source": [
        "employees_df.filter(col(\"salary\")>50000).show()"
      ],
      "metadata": {
        "colab": {
          "base_uri": "https://localhost:8080/"
        },
        "id": "uuXavslZpghU",
        "outputId": "4dd79c59-fbec-4a5a-f349-3ebee1d55b21"
      },
      "id": "uuXavslZpghU",
      "execution_count": 15,
      "outputs": [
        {
          "output_type": "stream",
          "name": "stdout",
          "text": [
            "+------+-------+-------------+------+\n",
            "|emp_id|   name|department_id|salary|\n",
            "+------+-------+-------------+------+\n",
            "|   102|    Bob|            2| 60000|\n",
            "|   103|Charlie|            1| 55000|\n",
            "|   104|  David|            3| 70000|\n",
            "|   105|    Eva|            2| 62000|\n",
            "|   106|  Frank|            1| 58000|\n",
            "+------+-------+-------------+------+\n",
            "\n"
          ]
        }
      ]
    },
    {
      "cell_type": "markdown",
      "source": [
        "**Get female employees older than 30.**"
      ],
      "metadata": {
        "id": "OksUc2P-_okm"
      },
      "id": "OksUc2P-_okm"
    },
    {
      "cell_type": "code",
      "source": [
        "employees_df.show()\n",
        "\n",
        "# No data of age , can't be Proccessed."
      ],
      "metadata": {
        "colab": {
          "base_uri": "https://localhost:8080/"
        },
        "id": "Cmh2wAPo_n01",
        "outputId": "22e18c47-ba96-4be5-ee05-98feb93f0415"
      },
      "id": "Cmh2wAPo_n01",
      "execution_count": 17,
      "outputs": [
        {
          "output_type": "stream",
          "name": "stdout",
          "text": [
            "+------+-------+-------------+------+\n",
            "|emp_id|   name|department_id|salary|\n",
            "+------+-------+-------------+------+\n",
            "|   101|  Alice|            1| 50000|\n",
            "|   102|    Bob|            2| 60000|\n",
            "|   103|Charlie|            1| 55000|\n",
            "|   104|  David|            3| 70000|\n",
            "|   105|    Eva|            2| 62000|\n",
            "|   106|  Frank|            1| 58000|\n",
            "+------+-------+-------------+------+\n",
            "\n"
          ]
        }
      ]
    },
    {
      "cell_type": "markdown",
      "source": [
        "**Get distinct department IDs.**"
      ],
      "metadata": {
        "id": "EEMcFbIiAub2"
      },
      "id": "EEMcFbIiAub2"
    },
    {
      "cell_type": "code",
      "source": [
        "employees_df.select(\"department_id\").distinct().show()\n",
        "employees_df.printSchema()\n",
        "  #printSchema definesd the Schema i.e column name and data type of the column name.\n",
        "\n"
      ],
      "metadata": {
        "colab": {
          "base_uri": "https://localhost:8080/"
        },
        "id": "VKfvDl5NAbsM",
        "outputId": "94064a60-bcca-4ded-82f7-46b898afc87d"
      },
      "id": "VKfvDl5NAbsM",
      "execution_count": 20,
      "outputs": [
        {
          "output_type": "stream",
          "name": "stdout",
          "text": [
            "+-------------+\n",
            "|department_id|\n",
            "+-------------+\n",
            "|            1|\n",
            "|            3|\n",
            "|            2|\n",
            "+-------------+\n",
            "\n",
            "root\n",
            " |-- emp_id: integer (nullable = true)\n",
            " |-- name: string (nullable = true)\n",
            " |-- department_id: integer (nullable = true)\n",
            " |-- salary: integer (nullable = true)\n",
            "\n"
          ]
        }
      ]
    },
    {
      "cell_type": "markdown",
      "source": [
        "***2. Sorting and Limiting ***"
      ],
      "metadata": {
        "id": "kbemeq8eBUoU"
      },
      "id": "kbemeq8eBUoU"
    },
    {
      "cell_type": "markdown",
      "source": [
        "List top 5 highest paid employees."
      ],
      "metadata": {
        "id": "YVEyzKJ7B26r"
      },
      "id": "YVEyzKJ7B26r"
    },
    {
      "cell_type": "code",
      "source": [
        "employees_df.select(col(\"name\"),col(\"salary\"))\\\n",
        "            .orderBy(desc(\"salary\"))\\\n",
        "            .limit (5)\\\n",
        "            .show()\n",
        ""
      ],
      "metadata": {
        "colab": {
          "base_uri": "https://localhost:8080/"
        },
        "id": "7CuRSaNYB8ey",
        "outputId": "65ab24c9-decb-4cc2-e9cb-501e7907b35e"
      },
      "id": "7CuRSaNYB8ey",
      "execution_count": 31,
      "outputs": [
        {
          "output_type": "stream",
          "name": "stdout",
          "text": [
            "+-------+------+\n",
            "|   name|salary|\n",
            "+-------+------+\n",
            "|  David| 70000|\n",
            "|    Eva| 62000|\n",
            "|    Bob| 60000|\n",
            "|  Frank| 58000|\n",
            "|Charlie| 55000|\n",
            "+-------+------+\n",
            "\n"
          ]
        }
      ]
    },
    {
      "cell_type": "markdown",
      "source": [
        "List youngest 3 employees in the company."
      ],
      "metadata": {
        "id": "eVnmMHpM74lQ"
      },
      "id": "eVnmMHpM74lQ"
    },
    {
      "cell_type": "code",
      "source": [
        "employees_df.select(\"name\",\"age\")\\\n",
        "            .orderBy(asc(\"age\"))\\\n",
        "            .limit(3)\\\n",
        "            .show()"
      ],
      "metadata": {
        "colab": {
          "base_uri": "https://localhost:8080/"
        },
        "id": "dOUvYchj76Ey",
        "outputId": "abdaa754-7eac-49aa-8e68-067d6fadff00"
      },
      "id": "dOUvYchj76Ey",
      "execution_count": 9,
      "outputs": [
        {
          "output_type": "stream",
          "name": "stdout",
          "text": [
            "+-------+---+\n",
            "|   name|age|\n",
            "+-------+---+\n",
            "|Charlie| 29|\n",
            "|  Frank| 31|\n",
            "|  Alice| 34|\n",
            "+-------+---+\n",
            "\n"
          ]
        }
      ]
    },
    {
      "cell_type": "markdown",
      "source": [
        "Find Employees who Earn more than Manager"
      ],
      "metadata": {
        "id": "c0IjngrF8nzY"
      },
      "id": "c0IjngrF8nzY"
    },
    {
      "cell_type": "code",
      "source": [
        "employees_df.alias(\"e\").join(employees_df.alias(\"m\"),col(\"e.manager_id\") == col(\"m.emp_id\"),\"inner\")\\\n",
        "            .filter(col(\"e.salary\") > col(\"m.salary\"))\\\n",
        "            .select(col(\"e.emp_id\").alias(\"employee_id\"),col(\"e.name\").alias(\"employee_name\"),col(\"e.salary\").alias(\"employee_salary\"),\n",
        "                    col(\"m.emp_id\").alias(\"manager_id\"),col(\"m.name\").alias(\"manager_name\"),col(\"m.salary\").alias(\"manager_salary\"))\\\n",
        "            .show()"
      ],
      "metadata": {
        "colab": {
          "base_uri": "https://localhost:8080/"
        },
        "id": "pKS5y8nCFqeP",
        "outputId": "84e47818-7569-49b5-872f-8949a263cd18"
      },
      "id": "pKS5y8nCFqeP",
      "execution_count": 34,
      "outputs": [
        {
          "output_type": "stream",
          "name": "stdout",
          "text": [
            "+-----------+-------------+---------------+----------+------------+--------------+\n",
            "|employee_id|employee_name|employee_salary|manager_id|manager_name|manager_salary|\n",
            "+-----------+-------------+---------------+----------+------------+--------------+\n",
            "|        103|      Charlie|          55000|       101|       Alice|         50000|\n",
            "|        105|          Eva|          62000|       102|         Bob|         60000|\n",
            "|        106|        Frank|          58000|       101|       Alice|         50000|\n",
            "+-----------+-------------+---------------+----------+------------+--------------+\n",
            "\n"
          ]
        }
      ]
    },
    {
      "cell_type": "code",
      "source": [
        "employees_df.createOrReplaceTempView(\"employees\")\n"
      ],
      "metadata": {
        "id": "lEfg7Rjy8gYN"
      },
      "id": "lEfg7Rjy8gYN",
      "execution_count": 14,
      "outputs": []
    },
    {
      "cell_type": "code",
      "source": [
        "spark.sql(\"select * from employees\").show()"
      ],
      "metadata": {
        "colab": {
          "base_uri": "https://localhost:8080/"
        },
        "id": "aSOI1Xl5CVTD",
        "outputId": "3e5277ec-1367-4b6d-eac3-0dafd7802455"
      },
      "id": "aSOI1Xl5CVTD",
      "execution_count": 15,
      "outputs": [
        {
          "output_type": "stream",
          "name": "stdout",
          "text": [
            "+------+-------+-------------+------+----------+---+\n",
            "|emp_id|   name|department_id|salary|manager_id|age|\n",
            "+------+-------+-------------+------+----------+---+\n",
            "|   101|  Alice|            1| 50000|       101| 34|\n",
            "|   102|    Bob|            2| 60000|       102| 41|\n",
            "|   103|Charlie|            1| 55000|       101| 29|\n",
            "|   104|  David|            3| 70000|       104| 45|\n",
            "|   105|    Eva|            2| 62000|       102| 36|\n",
            "|   106|  Frank|            1| 58000|       101| 31|\n",
            "+------+-------+-------------+------+----------+---+\n",
            "\n"
          ]
        }
      ]
    },
    {
      "cell_type": "code",
      "source": [
        "spark.sql(\"SELECT e.emp_id AS employee_id,e.name AS employee_name,e.salary AS employee_salary,m.emp_id AS manager_id,m.name AS manager_name,m.salary AS manager_salary FROM employees AS e JOIN employees AS m ON e.manager_id = m.emp_id WHERE e.salary > m.salary\").show()"
      ],
      "metadata": {
        "colab": {
          "base_uri": "https://localhost:8080/"
        },
        "id": "geB2DpA1AKqN",
        "outputId": "c0323d8d-5504-4883-fb1d-5aad987ce050"
      },
      "id": "geB2DpA1AKqN",
      "execution_count": 24,
      "outputs": [
        {
          "output_type": "stream",
          "name": "stdout",
          "text": [
            "+-----------+-------------+---------------+----------+------------+--------------+\n",
            "|employee_id|employee_name|employee_salary|manager_id|manager_name|manager_salary|\n",
            "+-----------+-------------+---------------+----------+------------+--------------+\n",
            "|        103|      Charlie|          55000|       101|       Alice|         50000|\n",
            "|        105|          Eva|          62000|       102|         Bob|         60000|\n",
            "|        106|        Frank|          58000|       101|       Alice|         50000|\n",
            "+-----------+-------------+---------------+----------+------------+--------------+\n",
            "\n"
          ]
        }
      ]
    },
    {
      "cell_type": "markdown",
      "source": [
        "Sort employees by dept_id and then by salary descending."
      ],
      "metadata": {
        "id": "pB6IX3fKVgiA"
      },
      "id": "pB6IX3fKVgiA"
    },
    {
      "cell_type": "code",
      "source": [
        "employees_df.select(\"department_id\",\"salary\")\\\n",
        "            .orderBy(asc(\"department_id\"),desc(\"salary\"))\\\n",
        "            .show()"
      ],
      "metadata": {
        "colab": {
          "base_uri": "https://localhost:8080/"
        },
        "id": "RV_1YLy3VhsE",
        "outputId": "aa63c50f-7fe6-4ad4-8a4e-930e23aa66f6"
      },
      "id": "RV_1YLy3VhsE",
      "execution_count": 35,
      "outputs": [
        {
          "output_type": "stream",
          "name": "stdout",
          "text": [
            "+-------------+------+\n",
            "|department_id|salary|\n",
            "+-------------+------+\n",
            "|            1| 58000|\n",
            "|            1| 55000|\n",
            "|            1| 50000|\n",
            "|            2| 62000|\n",
            "|            2| 60000|\n",
            "|            3| 70000|\n",
            "+-------------+------+\n",
            "\n"
          ]
        }
      ]
    },
    {
      "cell_type": "markdown",
      "source": [
        "***Aggregations***"
      ],
      "metadata": {
        "id": "94ltoPJBWuOf"
      },
      "id": "94ltoPJBWuOf"
    },
    {
      "cell_type": "markdown",
      "source": [
        "Find average salary."
      ],
      "metadata": {
        "id": "zaySEncHWyYd"
      },
      "id": "zaySEncHWyYd"
    },
    {
      "cell_type": "code",
      "source": [
        "employees_df.select(avg(col(\"salary\")).alias(\"average_salary\")).show()"
      ],
      "metadata": {
        "colab": {
          "base_uri": "https://localhost:8080/"
        },
        "id": "zKvqPdo7Wt2_",
        "outputId": "dcfd7393-eb27-4bf8-dec6-d0dbeac21922"
      },
      "id": "zKvqPdo7Wt2_",
      "execution_count": 13,
      "outputs": [
        {
          "output_type": "stream",
          "name": "stdout",
          "text": [
            "+------------------+\n",
            "|    average_salary|\n",
            "+------------------+\n",
            "|59166.666666666664|\n",
            "+------------------+\n",
            "\n"
          ]
        }
      ]
    },
    {
      "cell_type": "markdown",
      "source": [
        "Find max and min salary."
      ],
      "metadata": {
        "id": "thGIL9fZhWER"
      },
      "id": "thGIL9fZhWER"
    },
    {
      "cell_type": "code",
      "source": [
        "employees_df.select(max(col(\"salary\")).alias(\"max_salary\"),min(col(\"salary\")).alias(\"min_salary\")).show()"
      ],
      "metadata": {
        "colab": {
          "base_uri": "https://localhost:8080/"
        },
        "id": "63evTtK2hcDO",
        "outputId": "d08b8db8-5c24-421d-deb0-ab210a84a447"
      },
      "id": "63evTtK2hcDO",
      "execution_count": 14,
      "outputs": [
        {
          "output_type": "stream",
          "name": "stdout",
          "text": [
            "+----------+----------+\n",
            "|max_salary|min_salary|\n",
            "+----------+----------+\n",
            "|     70000|     50000|\n",
            "+----------+----------+\n",
            "\n"
          ]
        }
      ]
    },
    {
      "cell_type": "markdown",
      "source": [
        "Count total number of employees."
      ],
      "metadata": {
        "id": "E8GvPhA3i31f"
      },
      "id": "E8GvPhA3i31f"
    },
    {
      "cell_type": "code",
      "source": [
        "employees_df.select(count(col(\"emp_id\")).alias(\"no.of_employees\")).show()"
      ],
      "metadata": {
        "colab": {
          "base_uri": "https://localhost:8080/"
        },
        "id": "YnfTqG2li5-Y",
        "outputId": "5e200fcd-bc0e-4987-a9e5-fc9015e82e4e"
      },
      "id": "YnfTqG2li5-Y",
      "execution_count": 15,
      "outputs": [
        {
          "output_type": "stream",
          "name": "stdout",
          "text": [
            "+---------------+\n",
            "|no.of_employees|\n",
            "+---------------+\n",
            "|              6|\n",
            "+---------------+\n",
            "\n"
          ]
        }
      ]
    },
    {
      "cell_type": "markdown",
      "source": [
        "***Grouping***"
      ],
      "metadata": {
        "id": "eaM97OvEM1pc"
      },
      "id": "eaM97OvEM1pc"
    },
    {
      "cell_type": "markdown",
      "source": [
        "Find total salary expense per department."
      ],
      "metadata": {
        "id": "jHUK-WHdjOL4"
      },
      "id": "jHUK-WHdjOL4"
    },
    {
      "cell_type": "code",
      "source": [
        "employees_df.groupBy(\"department_id\")\\\n",
        "            .agg(sum(col(\"salary\")).alias(\"total_salary\"))\\\n",
        "            .orderBy(asc(\"department_id\"))\\\n",
        "            .show()"
      ],
      "metadata": {
        "colab": {
          "base_uri": "https://localhost:8080/"
        },
        "id": "ZPvAUYWHjPNu",
        "outputId": "e65e781f-38c8-4de7-b796-b01d87d4bd75"
      },
      "id": "ZPvAUYWHjPNu",
      "execution_count": 14,
      "outputs": [
        {
          "output_type": "stream",
          "name": "stdout",
          "text": [
            "+-------------+------------+\n",
            "|department_id|total_salary|\n",
            "+-------------+------------+\n",
            "|            1|      163000|\n",
            "|            2|      122000|\n",
            "|            3|       70000|\n",
            "+-------------+------------+\n",
            "\n"
          ]
        }
      ]
    },
    {
      "cell_type": "code",
      "source": [
        "employees_df.show()\n",
        "departments_df.show()\n",
        "salaries_df.show()"
      ],
      "metadata": {
        "colab": {
          "base_uri": "https://localhost:8080/"
        },
        "id": "iA2lMqy0NLHb",
        "outputId": "2d078af4-a61a-47b5-db88-7a51b0a573fd"
      },
      "id": "iA2lMqy0NLHb",
      "execution_count": 10,
      "outputs": [
        {
          "output_type": "stream",
          "name": "stdout",
          "text": [
            "+------+-------+-------------+------+----------+---+\n",
            "|emp_id|   name|department_id|salary|manager_id|age|\n",
            "+------+-------+-------------+------+----------+---+\n",
            "|   101|  Alice|            1| 50000|       101| 34|\n",
            "|   102|    Bob|            2| 60000|       102| 41|\n",
            "|   103|Charlie|            1| 55000|       101| 29|\n",
            "|   104|  David|            3| 70000|       104| 45|\n",
            "|   105|    Eva|            2| 62000|       102| 36|\n",
            "|   106|  Frank|            1| 58000|       101| 31|\n",
            "+------+-------+-------------+------+----------+---+\n",
            "\n",
            "+-------------+---------------+\n",
            "|department_id|department_name|\n",
            "+-------------+---------------+\n",
            "|            1|             HR|\n",
            "|            2|             IT|\n",
            "|            3|        Finance|\n",
            "|            4|      Marketing|\n",
            "+-------------+---------------+\n",
            "\n",
            "+------+-----+-----------+\n",
            "|emp_id|month|salary_paid|\n",
            "+------+-----+-----------+\n",
            "|   101|  Jan|      50000|\n",
            "|   102|  Jan|      60000|\n",
            "|   103|  Jan|      55000|\n",
            "|   104|  Jan|      70000|\n",
            "|   105|  Jan|      62000|\n",
            "|   106|  Jan|      58000|\n",
            "+------+-----+-----------+\n",
            "\n"
          ]
        }
      ]
    },
    {
      "cell_type": "markdown",
      "source": [
        "Group by department and find average salary,also department name."
      ],
      "metadata": {
        "id": "POgsV4pqNB9v"
      },
      "id": "POgsV4pqNB9v"
    },
    {
      "cell_type": "code",
      "source": [
        "employees_df.alias(\"e\").join(departments_df.alias(\"d\"),col(\"e.department_id\")==col(\"d.department_id\"),\"inner\")\\\n",
        "                        .groupBy((\"d.department_id\"),(\"d.department_name\")).agg(avg(col(\"e.salary\")).alias(\"average_salary\"))\\\n",
        "                        .orderBy(asc(\"d.department_id\"))\\\n",
        "                        .show()\n",
        "\n",
        "\n"
      ],
      "metadata": {
        "colab": {
          "base_uri": "https://localhost:8080/"
        },
        "id": "d4Vzf5aDNDNG",
        "outputId": "eed09d13-b06f-4ccd-cba5-c6c489f3ab5b"
      },
      "id": "d4Vzf5aDNDNG",
      "execution_count": 12,
      "outputs": [
        {
          "output_type": "stream",
          "name": "stdout",
          "text": [
            "+-------------+---------------+------------------+\n",
            "|department_id|department_name|    average_salary|\n",
            "+-------------+---------------+------------------+\n",
            "|            1|             HR|54333.333333333336|\n",
            "|            2|             IT|           61000.0|\n",
            "|            3|        Finance|           70000.0|\n",
            "+-------------+---------------+------------------+\n",
            "\n"
          ]
        }
      ]
    },
    {
      "cell_type": "markdown",
      "source": [
        "***Joins***"
      ],
      "metadata": {
        "id": "FRDvyOe_R3HN"
      },
      "id": "FRDvyOe_R3HN"
    },
    {
      "cell_type": "markdown",
      "source": [
        "Join employees with departments to get dept names.\\\n",
        "Get employee names and their department names."
      ],
      "metadata": {
        "id": "wTMK0QEvR5Bw"
      },
      "id": "wTMK0QEvR5Bw"
    },
    {
      "cell_type": "code",
      "source": [
        "employees_df.alias(\"e\").join(departments_df.alias(\"d\"),col(\"e.department_id\") == col(\"d.department_id\"),\"inner\")\\\n",
        "                       .select((col(\"e.name\").alias(\"employee_name\")),(col(\"d.department_name\").alias(\"department_name\")))\\\n",
        "                       .show()\n",
        "\n",
        ""
      ],
      "metadata": {
        "colab": {
          "base_uri": "https://localhost:8080/"
        },
        "id": "LDGWDdctR_TN",
        "outputId": "666eff0e-d2ef-479f-d96e-db1b51cb0487"
      },
      "id": "LDGWDdctR_TN",
      "execution_count": 42,
      "outputs": [
        {
          "output_type": "stream",
          "name": "stdout",
          "text": [
            "+-------------+---------------+\n",
            "|employee_name|department_name|\n",
            "+-------------+---------------+\n",
            "|        Alice|             HR|\n",
            "|          Bob|             IT|\n",
            "|      Charlie|             HR|\n",
            "|        David|        Finance|\n",
            "|          Eva|             IT|\n",
            "|        Frank|             HR|\n",
            "+-------------+---------------+\n",
            "\n"
          ]
        }
      ]
    },
    {
      "cell_type": "markdown",
      "source": [
        "Find employees working in the \"IT\" department."
      ],
      "metadata": {
        "id": "JLsaz63SVl2l"
      },
      "id": "JLsaz63SVl2l"
    },
    {
      "cell_type": "code",
      "source": [
        "employees_df.alias(\"e\").join(departments_df.alias(\"d\"),col(\"e.department_id\") == col(\"d.department_id\"),\"inner\")\\\n",
        "                       .select((col(\"e.name\").alias(\"employee_name\")),(col(\"d.department_name\").alias(\"department_name\")))\\\n",
        "                       .filter(col(\"d.department_name\")==\"IT\")\\\n",
        "                       .show()\n",
        "\n",
        ""
      ],
      "metadata": {
        "colab": {
          "base_uri": "https://localhost:8080/"
        },
        "id": "NDd7R_pwVnAb",
        "outputId": "e73b93fc-d34c-465e-84b8-40498cb10a31"
      },
      "id": "NDd7R_pwVnAb",
      "execution_count": 44,
      "outputs": [
        {
          "output_type": "stream",
          "name": "stdout",
          "text": [
            "+-------------+---------------+\n",
            "|employee_name|department_name|\n",
            "+-------------+---------------+\n",
            "|          Bob|             IT|\n",
            "|          Eva|             IT|\n",
            "+-------------+---------------+\n",
            "\n"
          ]
        }
      ]
    },
    {
      "cell_type": "code",
      "source": [
        "employees_df.show()\n",
        "departments_df.show()\n",
        "salaries_df.show()"
      ],
      "metadata": {
        "colab": {
          "base_uri": "https://localhost:8080/"
        },
        "id": "u_iKjtIPO4cz",
        "outputId": "eea1d8ac-e8ab-41c2-acc3-bc4c4e89be29"
      },
      "id": "u_iKjtIPO4cz",
      "execution_count": 7,
      "outputs": [
        {
          "output_type": "stream",
          "name": "stdout",
          "text": [
            "+------+-------+-------------+------+----------+---+\n",
            "|emp_id|   name|department_id|salary|manager_id|age|\n",
            "+------+-------+-------------+------+----------+---+\n",
            "|   101|  Alice|            1| 50000|       101| 34|\n",
            "|   102|    Bob|            2| 60000|       102| 41|\n",
            "|   103|Charlie|            1| 55000|       101| 29|\n",
            "|   104|  David|            3| 70000|       104| 45|\n",
            "|   105|    Eva|            2| 62000|       102| 36|\n",
            "|   106|  Frank|            1| 58000|       101| 31|\n",
            "+------+-------+-------------+------+----------+---+\n",
            "\n",
            "+-------------+---------------+\n",
            "|department_id|department_name|\n",
            "+-------------+---------------+\n",
            "|            1|             HR|\n",
            "|            2|             IT|\n",
            "|            3|        Finance|\n",
            "|            4|      Marketing|\n",
            "+-------------+---------------+\n",
            "\n",
            "+------+-----+-----------+\n",
            "|emp_id|month|salary_paid|\n",
            "+------+-----+-----------+\n",
            "|   101|  Jan|      50000|\n",
            "|   102|  Jan|      60000|\n",
            "|   103|  Jan|      55000|\n",
            "|   104|  Jan|      70000|\n",
            "|   105|  Jan|      62000|\n",
            "|   106|  Jan|      58000|\n",
            "+------+-----+-----------+\n",
            "\n"
          ]
        }
      ]
    },
    {
      "cell_type": "markdown",
      "source": [
        "***Window Functions***"
      ],
      "metadata": {
        "id": "iKXP6sURXHIy"
      },
      "id": "iKXP6sURXHIy"
    },
    {
      "cell_type": "markdown",
      "source": [
        "Rank employees by salary within each department."
      ],
      "metadata": {
        "id": "hnT3ijFAXJfx"
      },
      "id": "hnT3ijFAXJfx"
    },
    {
      "cell_type": "code",
      "source": [
        "window = Window.partitionBy(\"department_id\").orderBy(desc(\"salary\"))\n",
        "employees_df.withColumn(\"rank\",rank().over(window))\\\n",
        "            .withColumn(\"dense_rank\",dense_rank().over(window))\\\n",
        "            .withColumn(\"row_number\",row_number().over(window)).alias(\"e\").join(departments_df.alias(\"d\"),col(\"e.department_id\")==col(\"d.department_id\"),\"inner\")\\\n",
        "                       .show()\n",
        ""
      ],
      "metadata": {
        "colab": {
          "base_uri": "https://localhost:8080/"
        },
        "id": "fOTLu3z5XPYO",
        "outputId": "51886c7b-b4a2-460c-b1ab-59c5a8f577de"
      },
      "id": "fOTLu3z5XPYO",
      "execution_count": 10,
      "outputs": [
        {
          "output_type": "stream",
          "name": "stdout",
          "text": [
            "+------+-------+-------------+------+----------+---+----+----------+----------+-------------+---------------+\n",
            "|emp_id|   name|department_id|salary|manager_id|age|rank|dense_rank|row_number|department_id|department_name|\n",
            "+------+-------+-------------+------+----------+---+----+----------+----------+-------------+---------------+\n",
            "|   106|  Frank|            1| 58000|       101| 31|   1|         1|         1|            1|             HR|\n",
            "|   103|Charlie|            1| 55000|       101| 29|   2|         2|         2|            1|             HR|\n",
            "|   101|  Alice|            1| 50000|       101| 34|   3|         3|         3|            1|             HR|\n",
            "|   105|    Eva|            2| 62000|       102| 36|   1|         1|         1|            2|             IT|\n",
            "|   102|    Bob|            2| 60000|       102| 41|   2|         2|         2|            2|             IT|\n",
            "|   104|  David|            3| 70000|       104| 45|   1|         1|         1|            3|        Finance|\n",
            "+------+-------+-------------+------+----------+---+----+----------+----------+-------------+---------------+\n",
            "\n"
          ]
        }
      ]
    },
    {
      "cell_type": "code",
      "source": [
        "employee_df_1.show()"
      ],
      "metadata": {
        "colab": {
          "base_uri": "https://localhost:8080/"
        },
        "id": "4W9-9bEGPt40",
        "outputId": "b82b34d4-4632-44bf-8dac-3a4827cf3268"
      },
      "id": "4W9-9bEGPt40",
      "execution_count": 8,
      "outputs": [
        {
          "output_type": "stream",
          "name": "stdout",
          "text": [
            "+------+-------+-------------+------+----------+---+----+----------+----------+\n",
            "|emp_id|   name|department_id|salary|manager_id|age|rank|dense_rank|row_number|\n",
            "+------+-------+-------------+------+----------+---+----+----------+----------+\n",
            "|   106|  Frank|            1| 58000|       101| 31|   1|         1|         1|\n",
            "|   103|Charlie|            1| 55000|       101| 29|   2|         2|         2|\n",
            "|   101|  Alice|            1| 50000|       101| 34|   3|         3|         3|\n",
            "|   105|    Eva|            2| 62000|       102| 36|   1|         1|         1|\n",
            "|   102|    Bob|            2| 60000|       102| 41|   2|         2|         2|\n",
            "|   104|  David|            3| 70000|       104| 45|   1|         1|         1|\n",
            "+------+-------+-------------+------+----------+---+----+----------+----------+\n",
            "\n"
          ]
        }
      ]
    },
    {
      "cell_type": "code",
      "source": [
        "employee_df_1.alias(\"e\").join(departments_df.alias(\"d\"),col(\"e.department_id\")==col(\"d.department_id\"),\"inner\")\\\n",
        "                       .show()"
      ],
      "metadata": {
        "colab": {
          "base_uri": "https://localhost:8080/"
        },
        "id": "62Od6Ky3P_6l",
        "outputId": "00601727-ab6a-453b-c620-8fd38c30f1c1"
      },
      "id": "62Od6Ky3P_6l",
      "execution_count": 9,
      "outputs": [
        {
          "output_type": "stream",
          "name": "stdout",
          "text": [
            "+------+-------+-------------+------+----------+---+----+----------+----------+-------------+---------------+\n",
            "|emp_id|   name|department_id|salary|manager_id|age|rank|dense_rank|row_number|department_id|department_name|\n",
            "+------+-------+-------------+------+----------+---+----+----------+----------+-------------+---------------+\n",
            "|   106|  Frank|            1| 58000|       101| 31|   1|         1|         1|            1|             HR|\n",
            "|   103|Charlie|            1| 55000|       101| 29|   2|         2|         2|            1|             HR|\n",
            "|   101|  Alice|            1| 50000|       101| 34|   3|         3|         3|            1|             HR|\n",
            "|   105|    Eva|            2| 62000|       102| 36|   1|         1|         1|            2|             IT|\n",
            "|   102|    Bob|            2| 60000|       102| 41|   2|         2|         2|            2|             IT|\n",
            "|   104|  David|            3| 70000|       104| 45|   1|         1|         1|            3|        Finance|\n",
            "+------+-------+-------------+------+----------+---+----+----------+----------+-------------+---------------+\n",
            "\n"
          ]
        }
      ]
    },
    {
      "cell_type": "markdown",
      "source": [
        "Get top 1 highest paid employee per department."
      ],
      "metadata": {
        "id": "J5Id8om-Ra3Z"
      },
      "id": "J5Id8om-Ra3Z"
    },
    {
      "cell_type": "code",
      "source": [
        "window = Window.partitionBy(\"department_id\").orderBy(desc(\"salary\"))\n",
        "employees_df.withColumn(\"rank\",rank().over(window))\\\n",
        "            .filter(col(\"rank\")==1)\\\n",
        "            .show()"
      ],
      "metadata": {
        "colab": {
          "base_uri": "https://localhost:8080/"
        },
        "id": "OP4nRgT_RcHJ",
        "outputId": "8b81f700-9bd6-457c-e6ac-897b99be6038"
      },
      "id": "OP4nRgT_RcHJ",
      "execution_count": 9,
      "outputs": [
        {
          "output_type": "stream",
          "name": "stdout",
          "text": [
            "+------+-----+-------------+------+----------+---+----+\n",
            "|emp_id| name|department_id|salary|manager_id|age|rank|\n",
            "+------+-----+-------------+------+----------+---+----+\n",
            "|   106|Frank|            1| 58000|       101| 31|   1|\n",
            "|   105|  Eva|            2| 62000|       102| 36|   1|\n",
            "|   104|David|            3| 70000|       104| 45|   1|\n",
            "+------+-----+-------------+------+----------+---+----+\n",
            "\n"
          ]
        }
      ]
    },
    {
      "cell_type": "markdown",
      "source": [
        "Rank employees by salary within each department also departyment name"
      ],
      "metadata": {
        "id": "sarDe3ZU4eFe"
      },
      "id": "sarDe3ZU4eFe"
    },
    {
      "cell_type": "code",
      "source": [
        "employees_df.show()"
      ],
      "metadata": {
        "colab": {
          "base_uri": "https://localhost:8080/"
        },
        "id": "xUENwcgFRq8D",
        "outputId": "37eb91d9-abee-4d30-aab6-cdcb06f6ce0f"
      },
      "id": "xUENwcgFRq8D",
      "execution_count": 11,
      "outputs": [
        {
          "output_type": "stream",
          "name": "stdout",
          "text": [
            "+------+-------+-------------+------+----------+---+\n",
            "|emp_id|   name|department_id|salary|manager_id|age|\n",
            "+------+-------+-------------+------+----------+---+\n",
            "|   101|  Alice|            1| 50000|       101| 34|\n",
            "|   102|    Bob|            2| 60000|       102| 41|\n",
            "|   103|Charlie|            1| 55000|       101| 29|\n",
            "|   104|  David|            3| 70000|       104| 45|\n",
            "|   105|    Eva|            2| 62000|       102| 36|\n",
            "|   106|  Frank|            1| 58000|       101| 31|\n",
            "+------+-------+-------------+------+----------+---+\n",
            "\n"
          ]
        }
      ]
    },
    {
      "cell_type": "code",
      "source": [
        "windows = Window.partitionBy(\"department_id\").orderBy(desc(\"salary\"))"
      ],
      "metadata": {
        "id": "rNxrsYVDSrpi"
      },
      "id": "rNxrsYVDSrpi",
      "execution_count": 13,
      "outputs": []
    },
    {
      "cell_type": "code",
      "source": [
        "employees_df.alias(\"e\").join(departments_df.alias(\"d\"),col(\"e.department_id\")==col(\"d.department_id\"),\"inner\")\\\n",
        "                       .select(col(\"e.emp_id\").alias(\"emp_id\"),col(\"e.name\").alias(\"name\"),col(\"e.salary\").alias(\"salary\"),col(\"d.department_name\").alias(\"department_name\"),col(\"d.department_id\").alias(\"department_id\"))\\\n",
        "                       .withColumn(\"rank\",rank().over(windows))\\\n",
        "                       .filter(col(\"rank\")==1)\\\n",
        "                       .show()\n",
        "\n",
        "# windows = Window.partitionBy(\"department_id\").orderBy(desc(\"salary\"))\n",
        "# employees_df_joined.withColumn(\"rank\",rank().over(windows))\\\n",
        "#             .show()\n",
        ""
      ],
      "metadata": {
        "colab": {
          "base_uri": "https://localhost:8080/"
        },
        "id": "E5awA-nA4dq2",
        "outputId": "6d6f0ea0-7fae-4020-923e-c4ce8f14313b"
      },
      "id": "E5awA-nA4dq2",
      "execution_count": 15,
      "outputs": [
        {
          "output_type": "stream",
          "name": "stdout",
          "text": [
            "+------+-----+------+---------------+-------------+----+\n",
            "|emp_id| name|salary|department_name|department_id|rank|\n",
            "+------+-----+------+---------------+-------------+----+\n",
            "|   106|Frank| 58000|             HR|            1|   1|\n",
            "|   105|  Eva| 62000|             IT|            2|   1|\n",
            "|   104|David| 70000|        Finance|            3|   1|\n",
            "+------+-----+------+---------------+-------------+----+\n",
            "\n"
          ]
        }
      ]
    },
    {
      "cell_type": "code",
      "source": [],
      "metadata": {
        "colab": {
          "base_uri": "https://localhost:8080/",
          "height": 495
        },
        "id": "7xLx6QF5_GUV",
        "outputId": "99312379-0272-46b4-f43d-8393fab7e17d"
      },
      "id": "7xLx6QF5_GUV",
      "execution_count": 29,
      "outputs": [
        {
          "output_type": "error",
          "ename": "AnalysisException",
          "evalue": "[UNRESOLVED_COLUMN.WITH_SUGGESTION] A column or function parameter with name `salary` cannot be resolved. Did you mean one of the following? [`emp_salary`, `emp_id`, `emp_name`, `department_id`, `department_name`].;\n'Project [emp_id#1097, emp_name#1098, emp_salary#1099, department_name#1100, department_id#1101, rank() windowspecdefinition(department_id#1101, 'salary DESC NULLS LAST, specifiedwindowframe(RowFrame, unboundedpreceding$(), currentrow$())) AS rank#1115]\n+- Project [emp_id#313 AS emp_id#1097, name#314 AS emp_name#1098, salary#316 AS emp_salary#1099, department_name#343 AS department_name#1100, department_id#342 AS department_id#1101]\n   +- Join Inner, (department_id#315 = department_id#342)\n      :- SubqueryAlias e\n      :  +- Relation [emp_id#313,name#314,department_id#315,salary#316,manager_id#317,age#318] csv\n      +- SubqueryAlias d\n         +- Relation [department_id#342,department_name#343] csv\n",
          "traceback": [
            "\u001b[0;31m---------------------------------------------------------------------------\u001b[0m",
            "\u001b[0;31mAnalysisException\u001b[0m                         Traceback (most recent call last)",
            "\u001b[0;32m/tmp/ipython-input-29-421324167.py\u001b[0m in \u001b[0;36m<cell line: 0>\u001b[0;34m()\u001b[0m\n\u001b[1;32m      1\u001b[0m \u001b[0mwindows\u001b[0m \u001b[0;34m=\u001b[0m \u001b[0mWindow\u001b[0m\u001b[0;34m.\u001b[0m\u001b[0mpartitionBy\u001b[0m\u001b[0;34m(\u001b[0m\u001b[0;34m\"department_id\"\u001b[0m\u001b[0;34m)\u001b[0m\u001b[0;34m.\u001b[0m\u001b[0morderBy\u001b[0m\u001b[0;34m(\u001b[0m\u001b[0mdesc\u001b[0m\u001b[0;34m(\u001b[0m\u001b[0;34m\"salary\"\u001b[0m\u001b[0;34m)\u001b[0m\u001b[0;34m)\u001b[0m\u001b[0;34m\u001b[0m\u001b[0;34m\u001b[0m\u001b[0m\n\u001b[0;32m----> 2\u001b[0;31m \u001b[0memployees_df_2\u001b[0m\u001b[0;34m.\u001b[0m\u001b[0mwithColumn\u001b[0m\u001b[0;34m(\u001b[0m\u001b[0;34m\"rank\"\u001b[0m\u001b[0;34m,\u001b[0m\u001b[0mrank\u001b[0m\u001b[0;34m(\u001b[0m\u001b[0;34m)\u001b[0m\u001b[0;34m.\u001b[0m\u001b[0mover\u001b[0m\u001b[0;34m(\u001b[0m\u001b[0mwindows\u001b[0m\u001b[0;34m)\u001b[0m\u001b[0;34m)\u001b[0m\u001b[0;31m\\\u001b[0m\u001b[0;34m\u001b[0m\u001b[0;34m\u001b[0m\u001b[0m\n\u001b[0m\u001b[1;32m      3\u001b[0m             \u001b[0;34m.\u001b[0m\u001b[0mshow\u001b[0m\u001b[0;34m(\u001b[0m\u001b[0;34m)\u001b[0m\u001b[0;34m\u001b[0m\u001b[0;34m\u001b[0m\u001b[0m\n",
            "\u001b[0;32m/content/spark-3.5.3-bin-hadoop3/python/pyspark/sql/dataframe.py\u001b[0m in \u001b[0;36mwithColumn\u001b[0;34m(self, colName, col)\u001b[0m\n\u001b[1;32m   5174\u001b[0m                 \u001b[0mmessage_parameters\u001b[0m\u001b[0;34m=\u001b[0m\u001b[0;34m{\u001b[0m\u001b[0;34m\"arg_name\"\u001b[0m\u001b[0;34m:\u001b[0m \u001b[0;34m\"col\"\u001b[0m\u001b[0;34m,\u001b[0m \u001b[0;34m\"arg_type\"\u001b[0m\u001b[0;34m:\u001b[0m \u001b[0mtype\u001b[0m\u001b[0;34m(\u001b[0m\u001b[0mcol\u001b[0m\u001b[0;34m)\u001b[0m\u001b[0;34m.\u001b[0m\u001b[0m__name__\u001b[0m\u001b[0;34m}\u001b[0m\u001b[0;34m,\u001b[0m\u001b[0;34m\u001b[0m\u001b[0;34m\u001b[0m\u001b[0m\n\u001b[1;32m   5175\u001b[0m             )\n\u001b[0;32m-> 5176\u001b[0;31m         \u001b[0;32mreturn\u001b[0m \u001b[0mDataFrame\u001b[0m\u001b[0;34m(\u001b[0m\u001b[0mself\u001b[0m\u001b[0;34m.\u001b[0m\u001b[0m_jdf\u001b[0m\u001b[0;34m.\u001b[0m\u001b[0mwithColumn\u001b[0m\u001b[0;34m(\u001b[0m\u001b[0mcolName\u001b[0m\u001b[0;34m,\u001b[0m \u001b[0mcol\u001b[0m\u001b[0;34m.\u001b[0m\u001b[0m_jc\u001b[0m\u001b[0;34m)\u001b[0m\u001b[0;34m,\u001b[0m \u001b[0mself\u001b[0m\u001b[0;34m.\u001b[0m\u001b[0msparkSession\u001b[0m\u001b[0;34m)\u001b[0m\u001b[0;34m\u001b[0m\u001b[0;34m\u001b[0m\u001b[0m\n\u001b[0m\u001b[1;32m   5177\u001b[0m \u001b[0;34m\u001b[0m\u001b[0m\n\u001b[1;32m   5178\u001b[0m     \u001b[0;32mdef\u001b[0m \u001b[0mwithColumnRenamed\u001b[0m\u001b[0;34m(\u001b[0m\u001b[0mself\u001b[0m\u001b[0;34m,\u001b[0m \u001b[0mexisting\u001b[0m\u001b[0;34m:\u001b[0m \u001b[0mstr\u001b[0m\u001b[0;34m,\u001b[0m \u001b[0mnew\u001b[0m\u001b[0;34m:\u001b[0m \u001b[0mstr\u001b[0m\u001b[0;34m)\u001b[0m \u001b[0;34m->\u001b[0m \u001b[0;34m\"DataFrame\"\u001b[0m\u001b[0;34m:\u001b[0m\u001b[0;34m\u001b[0m\u001b[0;34m\u001b[0m\u001b[0m\n",
            "\u001b[0;32m/content/spark-3.5.3-bin-hadoop3/python/lib/py4j-0.10.9.7-src.zip/py4j/java_gateway.py\u001b[0m in \u001b[0;36m__call__\u001b[0;34m(self, *args)\u001b[0m\n\u001b[1;32m   1320\u001b[0m \u001b[0;34m\u001b[0m\u001b[0m\n\u001b[1;32m   1321\u001b[0m         \u001b[0manswer\u001b[0m \u001b[0;34m=\u001b[0m \u001b[0mself\u001b[0m\u001b[0;34m.\u001b[0m\u001b[0mgateway_client\u001b[0m\u001b[0;34m.\u001b[0m\u001b[0msend_command\u001b[0m\u001b[0;34m(\u001b[0m\u001b[0mcommand\u001b[0m\u001b[0;34m)\u001b[0m\u001b[0;34m\u001b[0m\u001b[0;34m\u001b[0m\u001b[0m\n\u001b[0;32m-> 1322\u001b[0;31m         return_value = get_return_value(\n\u001b[0m\u001b[1;32m   1323\u001b[0m             answer, self.gateway_client, self.target_id, self.name)\n\u001b[1;32m   1324\u001b[0m \u001b[0;34m\u001b[0m\u001b[0m\n",
            "\u001b[0;32m/content/spark-3.5.3-bin-hadoop3/python/pyspark/errors/exceptions/captured.py\u001b[0m in \u001b[0;36mdeco\u001b[0;34m(*a, **kw)\u001b[0m\n\u001b[1;32m    183\u001b[0m                 \u001b[0;31m# Hide where the exception came from that shows a non-Pythonic\u001b[0m\u001b[0;34m\u001b[0m\u001b[0;34m\u001b[0m\u001b[0m\n\u001b[1;32m    184\u001b[0m                 \u001b[0;31m# JVM exception message.\u001b[0m\u001b[0;34m\u001b[0m\u001b[0;34m\u001b[0m\u001b[0m\n\u001b[0;32m--> 185\u001b[0;31m                 \u001b[0;32mraise\u001b[0m \u001b[0mconverted\u001b[0m \u001b[0;32mfrom\u001b[0m \u001b[0;32mNone\u001b[0m\u001b[0;34m\u001b[0m\u001b[0;34m\u001b[0m\u001b[0m\n\u001b[0m\u001b[1;32m    186\u001b[0m             \u001b[0;32melse\u001b[0m\u001b[0;34m:\u001b[0m\u001b[0;34m\u001b[0m\u001b[0;34m\u001b[0m\u001b[0m\n\u001b[1;32m    187\u001b[0m                 \u001b[0;32mraise\u001b[0m\u001b[0;34m\u001b[0m\u001b[0;34m\u001b[0m\u001b[0m\n",
            "\u001b[0;31mAnalysisException\u001b[0m: [UNRESOLVED_COLUMN.WITH_SUGGESTION] A column or function parameter with name `salary` cannot be resolved. Did you mean one of the following? [`emp_salary`, `emp_id`, `emp_name`, `department_id`, `department_name`].;\n'Project [emp_id#1097, emp_name#1098, emp_salary#1099, department_name#1100, department_id#1101, rank() windowspecdefinition(department_id#1101, 'salary DESC NULLS LAST, specifiedwindowframe(RowFrame, unboundedpreceding$(), currentrow$())) AS rank#1115]\n+- Project [emp_id#313 AS emp_id#1097, name#314 AS emp_name#1098, salary#316 AS emp_salary#1099, department_name#343 AS department_name#1100, department_id#342 AS department_id#1101]\n   +- Join Inner, (department_id#315 = department_id#342)\n      :- SubqueryAlias e\n      :  +- Relation [emp_id#313,name#314,department_id#315,salary#316,manager_id#317,age#318] csv\n      +- SubqueryAlias d\n         +- Relation [department_id#342,department_name#343] csv\n"
          ]
        }
      ]
    },
    {
      "cell_type": "code",
      "source": [
        "employees_df_2 = employees_df.alias(\"e\").join(departments_df.alias(\"d\"),col(\"e.department_id\")==col(\"d.department_id\"),\"inner\")\\\n",
        "                       .select(\"e.*\",\"d.*\")\\\n",
        "\n",
        "windows = Window.partitionBy(\"department_id\").orderBy(desc(\"salary\"))\n",
        "employees_df_2.withColumn(\"rank\",rank().over(window))\\\n",
        "            .show()"
      ],
      "metadata": {
        "colab": {
          "base_uri": "https://localhost:8080/",
          "height": 339
        },
        "id": "-VBsmOCQ9VAk",
        "outputId": "9462d4c7-f297-4414-9cb2-a906bf06f391"
      },
      "id": "-VBsmOCQ9VAk",
      "execution_count": 23,
      "outputs": [
        {
          "output_type": "error",
          "ename": "AnalysisException",
          "evalue": "[AMBIGUOUS_REFERENCE] Reference `department_id` is ambiguous, could be: [`d`.`department_id`, `e`.`department_id`].",
          "traceback": [
            "\u001b[0;31m---------------------------------------------------------------------------\u001b[0m",
            "\u001b[0;31mAnalysisException\u001b[0m                         Traceback (most recent call last)",
            "\u001b[0;32m/tmp/ipython-input-23-1689115608.py\u001b[0m in \u001b[0;36m<cell line: 0>\u001b[0;34m()\u001b[0m\n\u001b[1;32m      3\u001b[0m \u001b[0;34m\u001b[0m\u001b[0m\n\u001b[1;32m      4\u001b[0m \u001b[0mwindows\u001b[0m \u001b[0;34m=\u001b[0m \u001b[0mWindow\u001b[0m\u001b[0;34m.\u001b[0m\u001b[0mpartitionBy\u001b[0m\u001b[0;34m(\u001b[0m\u001b[0;34m\"department_id\"\u001b[0m\u001b[0;34m)\u001b[0m\u001b[0;34m.\u001b[0m\u001b[0morderBy\u001b[0m\u001b[0;34m(\u001b[0m\u001b[0mdesc\u001b[0m\u001b[0;34m(\u001b[0m\u001b[0;34m\"salary\"\u001b[0m\u001b[0;34m)\u001b[0m\u001b[0;34m)\u001b[0m\u001b[0;34m\u001b[0m\u001b[0;34m\u001b[0m\u001b[0m\n\u001b[0;32m----> 5\u001b[0;31m \u001b[0memployees_df_2\u001b[0m\u001b[0;34m.\u001b[0m\u001b[0mwithColumn\u001b[0m\u001b[0;34m(\u001b[0m\u001b[0;34m\"rank\"\u001b[0m\u001b[0;34m,\u001b[0m\u001b[0mrank\u001b[0m\u001b[0;34m(\u001b[0m\u001b[0;34m)\u001b[0m\u001b[0;34m.\u001b[0m\u001b[0mover\u001b[0m\u001b[0;34m(\u001b[0m\u001b[0mwindow\u001b[0m\u001b[0;34m)\u001b[0m\u001b[0;34m)\u001b[0m\u001b[0;31m\\\u001b[0m\u001b[0;34m\u001b[0m\u001b[0;34m\u001b[0m\u001b[0m\n\u001b[0m\u001b[1;32m      6\u001b[0m             \u001b[0;34m.\u001b[0m\u001b[0mshow\u001b[0m\u001b[0;34m(\u001b[0m\u001b[0;34m)\u001b[0m\u001b[0;34m\u001b[0m\u001b[0;34m\u001b[0m\u001b[0m\n",
            "\u001b[0;32m/content/spark-3.5.3-bin-hadoop3/python/pyspark/sql/dataframe.py\u001b[0m in \u001b[0;36mwithColumn\u001b[0;34m(self, colName, col)\u001b[0m\n\u001b[1;32m   5174\u001b[0m                 \u001b[0mmessage_parameters\u001b[0m\u001b[0;34m=\u001b[0m\u001b[0;34m{\u001b[0m\u001b[0;34m\"arg_name\"\u001b[0m\u001b[0;34m:\u001b[0m \u001b[0;34m\"col\"\u001b[0m\u001b[0;34m,\u001b[0m \u001b[0;34m\"arg_type\"\u001b[0m\u001b[0;34m:\u001b[0m \u001b[0mtype\u001b[0m\u001b[0;34m(\u001b[0m\u001b[0mcol\u001b[0m\u001b[0;34m)\u001b[0m\u001b[0;34m.\u001b[0m\u001b[0m__name__\u001b[0m\u001b[0;34m}\u001b[0m\u001b[0;34m,\u001b[0m\u001b[0;34m\u001b[0m\u001b[0;34m\u001b[0m\u001b[0m\n\u001b[1;32m   5175\u001b[0m             )\n\u001b[0;32m-> 5176\u001b[0;31m         \u001b[0;32mreturn\u001b[0m \u001b[0mDataFrame\u001b[0m\u001b[0;34m(\u001b[0m\u001b[0mself\u001b[0m\u001b[0;34m.\u001b[0m\u001b[0m_jdf\u001b[0m\u001b[0;34m.\u001b[0m\u001b[0mwithColumn\u001b[0m\u001b[0;34m(\u001b[0m\u001b[0mcolName\u001b[0m\u001b[0;34m,\u001b[0m \u001b[0mcol\u001b[0m\u001b[0;34m.\u001b[0m\u001b[0m_jc\u001b[0m\u001b[0;34m)\u001b[0m\u001b[0;34m,\u001b[0m \u001b[0mself\u001b[0m\u001b[0;34m.\u001b[0m\u001b[0msparkSession\u001b[0m\u001b[0;34m)\u001b[0m\u001b[0;34m\u001b[0m\u001b[0;34m\u001b[0m\u001b[0m\n\u001b[0m\u001b[1;32m   5177\u001b[0m \u001b[0;34m\u001b[0m\u001b[0m\n\u001b[1;32m   5178\u001b[0m     \u001b[0;32mdef\u001b[0m \u001b[0mwithColumnRenamed\u001b[0m\u001b[0;34m(\u001b[0m\u001b[0mself\u001b[0m\u001b[0;34m,\u001b[0m \u001b[0mexisting\u001b[0m\u001b[0;34m:\u001b[0m \u001b[0mstr\u001b[0m\u001b[0;34m,\u001b[0m \u001b[0mnew\u001b[0m\u001b[0;34m:\u001b[0m \u001b[0mstr\u001b[0m\u001b[0;34m)\u001b[0m \u001b[0;34m->\u001b[0m \u001b[0;34m\"DataFrame\"\u001b[0m\u001b[0;34m:\u001b[0m\u001b[0;34m\u001b[0m\u001b[0;34m\u001b[0m\u001b[0m\n",
            "\u001b[0;32m/content/spark-3.5.3-bin-hadoop3/python/lib/py4j-0.10.9.7-src.zip/py4j/java_gateway.py\u001b[0m in \u001b[0;36m__call__\u001b[0;34m(self, *args)\u001b[0m\n\u001b[1;32m   1320\u001b[0m \u001b[0;34m\u001b[0m\u001b[0m\n\u001b[1;32m   1321\u001b[0m         \u001b[0manswer\u001b[0m \u001b[0;34m=\u001b[0m \u001b[0mself\u001b[0m\u001b[0;34m.\u001b[0m\u001b[0mgateway_client\u001b[0m\u001b[0;34m.\u001b[0m\u001b[0msend_command\u001b[0m\u001b[0;34m(\u001b[0m\u001b[0mcommand\u001b[0m\u001b[0;34m)\u001b[0m\u001b[0;34m\u001b[0m\u001b[0;34m\u001b[0m\u001b[0m\n\u001b[0;32m-> 1322\u001b[0;31m         return_value = get_return_value(\n\u001b[0m\u001b[1;32m   1323\u001b[0m             answer, self.gateway_client, self.target_id, self.name)\n\u001b[1;32m   1324\u001b[0m \u001b[0;34m\u001b[0m\u001b[0m\n",
            "\u001b[0;32m/content/spark-3.5.3-bin-hadoop3/python/pyspark/errors/exceptions/captured.py\u001b[0m in \u001b[0;36mdeco\u001b[0;34m(*a, **kw)\u001b[0m\n\u001b[1;32m    183\u001b[0m                 \u001b[0;31m# Hide where the exception came from that shows a non-Pythonic\u001b[0m\u001b[0;34m\u001b[0m\u001b[0;34m\u001b[0m\u001b[0m\n\u001b[1;32m    184\u001b[0m                 \u001b[0;31m# JVM exception message.\u001b[0m\u001b[0;34m\u001b[0m\u001b[0;34m\u001b[0m\u001b[0m\n\u001b[0;32m--> 185\u001b[0;31m                 \u001b[0;32mraise\u001b[0m \u001b[0mconverted\u001b[0m \u001b[0;32mfrom\u001b[0m \u001b[0;32mNone\u001b[0m\u001b[0;34m\u001b[0m\u001b[0;34m\u001b[0m\u001b[0m\n\u001b[0m\u001b[1;32m    186\u001b[0m             \u001b[0;32melse\u001b[0m\u001b[0;34m:\u001b[0m\u001b[0;34m\u001b[0m\u001b[0;34m\u001b[0m\u001b[0m\n\u001b[1;32m    187\u001b[0m                 \u001b[0;32mraise\u001b[0m\u001b[0;34m\u001b[0m\u001b[0;34m\u001b[0m\u001b[0m\n",
            "\u001b[0;31mAnalysisException\u001b[0m: [AMBIGUOUS_REFERENCE] Reference `department_id` is ambiguous, could be: [`d`.`department_id`, `e`.`department_id`]."
          ]
        }
      ]
    },
    {
      "cell_type": "markdown",
      "source": [
        "What will be the output of inner, outer, left, right, and cartesian joins?\n",
        "A B\n",
        "1 null\n",
        "null 2\n",
        "null 2\n",
        "3 1\n",
        "6 5\n",
        "4 6\n",
        "6\n",
        "\n",
        "\n",
        "\n",
        "\n"
      ],
      "metadata": {
        "id": "8cr8U__NUaby"
      },
      "id": "8cr8U__NUaby"
    },
    {
      "cell_type": "code",
      "source": [
        "What will be the output of inner, outer, left, right, and cartesian joins?\n",
        "A B\n",
        "1 null\n",
        "null 2\n",
        "null 2\n",
        "3 1\n",
        "6 5\n",
        "4 6\n",
        "6\n"
      ],
      "metadata": {
        "id": "X7ksGd65UejS"
      },
      "id": "X7ksGd65UejS",
      "execution_count": null,
      "outputs": []
    },
    {
      "cell_type": "code",
      "source": [
        "arr1 = [1,None, None,3,6,4,6]\n",
        "arr2 = [None,2,2,1,5,6,None]"
      ],
      "metadata": {
        "id": "Pqydwm2aUshC"
      },
      "id": "Pqydwm2aUshC",
      "execution_count": 17,
      "outputs": []
    },
    {
      "cell_type": "code",
      "source": [
        "df_1 = spark.createDataFrame([(i,) for i in arr1], [\"value\"])\n",
        "df_2 = spark.createDataFrame([(i,) for i in arr2], [\"value\"])\n",
        "\n",
        "\n",
        "df_1.show()\n",
        "df_2.show()\n",
        "df_1.printSchema()"
      ],
      "metadata": {
        "colab": {
          "base_uri": "https://localhost:8080/"
        },
        "id": "qKq5h2cBVcb6",
        "outputId": "0b1a7027-6fe5-42e9-93f2-567d5687d73b"
      },
      "id": "qKq5h2cBVcb6",
      "execution_count": 23,
      "outputs": [
        {
          "output_type": "stream",
          "name": "stdout",
          "text": [
            "+-----+\n",
            "|value|\n",
            "+-----+\n",
            "|    1|\n",
            "| NULL|\n",
            "| NULL|\n",
            "|    3|\n",
            "|    6|\n",
            "|    4|\n",
            "|    6|\n",
            "+-----+\n",
            "\n",
            "+-----+\n",
            "|value|\n",
            "+-----+\n",
            "| NULL|\n",
            "|    2|\n",
            "|    2|\n",
            "|    1|\n",
            "|    5|\n",
            "|    6|\n",
            "| NULL|\n",
            "+-----+\n",
            "\n",
            "root\n",
            " |-- value: long (nullable = true)\n",
            "\n"
          ]
        }
      ]
    },
    {
      "cell_type": "code",
      "source": [
        "1,1\n",
        "6,6\n",
        "6,6"
      ],
      "metadata": {
        "id": "MQzXdgEgYw6-"
      },
      "id": "MQzXdgEgYw6-",
      "execution_count": null,
      "outputs": []
    },
    {
      "cell_type": "code",
      "source": [
        "1,1\n",
        "null,nulli\n",
        "null,null\n",
        "3,nullif\n",
        "6,6\n",
        "4,nullif\n",
        "6,6"
      ],
      "metadata": {
        "id": "CtFoCGcNZSlh"
      },
      "id": "CtFoCGcNZSlh",
      "execution_count": null,
      "outputs": []
    },
    {
      "cell_type": "code",
      "source": [
        "df_1.alias(\"d1\").join(df_2.alias(\"d2\"),col(\"d1.value\")==col(\"d2.value\"),\"inner\").show()"
      ],
      "metadata": {
        "colab": {
          "base_uri": "https://localhost:8080/"
        },
        "id": "-kCkyfA3aCVC",
        "outputId": "dbc72aa0-5c6b-4ce6-eb31-3e6316fe0a98"
      },
      "id": "-kCkyfA3aCVC",
      "execution_count": 24,
      "outputs": [
        {
          "output_type": "stream",
          "name": "stdout",
          "text": [
            "+-----+-----+\n",
            "|value|value|\n",
            "+-----+-----+\n",
            "|    1|    1|\n",
            "|    6|    6|\n",
            "|    6|    6|\n",
            "+-----+-----+\n",
            "\n"
          ]
        }
      ]
    },
    {
      "cell_type": "code",
      "source": [
        "df_1.alias(\"d1\").join(df_2.alias(\"d2\"),col(\"d1.value\")==col(\"d2.value\"),\"left\").show()"
      ],
      "metadata": {
        "colab": {
          "base_uri": "https://localhost:8080/"
        },
        "id": "oTNU9C_Raakf",
        "outputId": "e9d4c7de-f3aa-429f-b2be-ebf17676d379"
      },
      "id": "oTNU9C_Raakf",
      "execution_count": 25,
      "outputs": [
        {
          "output_type": "stream",
          "name": "stdout",
          "text": [
            "+-----+-----+\n",
            "|value|value|\n",
            "+-----+-----+\n",
            "| NULL| NULL|\n",
            "| NULL| NULL|\n",
            "|    1|    1|\n",
            "|    6|    6|\n",
            "|    6|    6|\n",
            "|    3| NULL|\n",
            "|    4| NULL|\n",
            "+-----+-----+\n",
            "\n"
          ]
        }
      ]
    },
    {
      "cell_type": "code",
      "source": [
        "df_1.crossJoin(df_2).show(truncate = False)"
      ],
      "metadata": {
        "colab": {
          "base_uri": "https://localhost:8080/"
        },
        "id": "hioZkK9naqPJ",
        "outputId": "6231d4a7-b700-44fb-c534-e8579fb0b30a"
      },
      "id": "hioZkK9naqPJ",
      "execution_count": 31,
      "outputs": [
        {
          "output_type": "stream",
          "name": "stdout",
          "text": [
            "+-----+-----+\n",
            "|value|value|\n",
            "+-----+-----+\n",
            "|1    |NULL |\n",
            "|1    |2    |\n",
            "|1    |2    |\n",
            "|NULL |NULL |\n",
            "|NULL |2    |\n",
            "|NULL |2    |\n",
            "|NULL |NULL |\n",
            "|NULL |2    |\n",
            "|NULL |2    |\n",
            "|1    |1    |\n",
            "|1    |5    |\n",
            "|1    |6    |\n",
            "|1    |NULL |\n",
            "|NULL |1    |\n",
            "|NULL |5    |\n",
            "|NULL |6    |\n",
            "|NULL |NULL |\n",
            "|NULL |1    |\n",
            "|NULL |5    |\n",
            "|NULL |6    |\n",
            "+-----+-----+\n",
            "only showing top 20 rows\n",
            "\n"
          ]
        }
      ]
    },
    {
      "cell_type": "code",
      "source": [
        "df_1.alias(\"d1\").join(df_2.alias(\"d2\"),col(\"d1.value\")==col(\"d2.value\"),\"outer\").show()"
      ],
      "metadata": {
        "colab": {
          "base_uri": "https://localhost:8080/"
        },
        "id": "kcxEdFiVaxZT",
        "outputId": "e2f86f51-4ea5-4c71-a7cb-1f0c6e799932"
      },
      "id": "kcxEdFiVaxZT",
      "execution_count": 27,
      "outputs": [
        {
          "output_type": "stream",
          "name": "stdout",
          "text": [
            "+-----+-----+\n",
            "|value|value|\n",
            "+-----+-----+\n",
            "| NULL| NULL|\n",
            "| NULL| NULL|\n",
            "| NULL| NULL|\n",
            "| NULL| NULL|\n",
            "|    1|    1|\n",
            "| NULL|    2|\n",
            "| NULL|    2|\n",
            "|    3| NULL|\n",
            "|    4| NULL|\n",
            "| NULL|    5|\n",
            "|    6|    6|\n",
            "|    6|    6|\n",
            "+-----+-----+\n",
            "\n"
          ]
        }
      ]
    }
  ],
  "metadata": {
    "colab": {
      "provenance": [],
      "include_colab_link": true
    },
    "language_info": {
      "name": "python"
    },
    "kernelspec": {
      "name": "python3",
      "display_name": "Python 3"
    }
  },
  "nbformat": 4,
  "nbformat_minor": 5
}